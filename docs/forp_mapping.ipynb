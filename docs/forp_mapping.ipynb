{
 "cells": [
  {
   "cell_type": "markdown",
   "id": "63676028",
   "metadata": {},
   "source": [
    "| Ligne | Broche Arduino | Signal STI | Fonction / Bouton FORP |\n",
    "|:------|:----------------|:------------|:------------------------|\n",
    "| 0 | 22 | STI007 | Bleu gauche |\n",
    "| 1 | 23 | STI008 | Jaune gauche |\n",
    "| 2 | 24 | STI009 | Vert gauche |\n",
    "| 3 | 25 | STI010 | Rouge gauche |\n",
    "| 4 | 26 | STI012 | Bleu droit |\n",
    "| 5 | 27 | STI013 | Jaune droit |\n",
    "| 6 | 28 | STI014 | Vert droit |\n",
    "| 7 | 29 | STI015 | Rouge droit |\n",
    "\n",
    "**[`Mapping Arduino et boîtier STI`](schematic_forp_mapping.png)**\n",
    "**[`Schéma de câblage avec la solution arduino`](Schematic_Stim-MEG.png)**"
   ]
  }
 ],
 "metadata": {
  "language_info": {
   "name": "python"
  }
 },
 "nbformat": 4,
 "nbformat_minor": 5
}
