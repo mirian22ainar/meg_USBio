{
 "cells": [
  {
   "cell_type": "markdown",
   "id": "63676028",
   "metadata": {},
   "source": [
    "Les lignes utilisées sont :\n",
    "| Ligne | Broche Arduino | Signal STI | Fonction / Bouton FORP |\n",
    "|:------|:----------------|:------------|:------------------------|\n",
    "| 0 | 22 | STI010 | Rouge gauche |\n",
    "| 1 | 23 | STI009 | Vert gauche |\n",
    "| 2 | 24 | STI015 | Rouge droit |\n",
    "| 3 | 25 | STI014 | Vert droit |\n",
    "| 4 | 26 | STI007 | Bleu gauche |\n",
    "| 5 | 27 | STI008 | Jaune gauche |\n",
    "| 6 | 28 | STI012 | Bleu droit |\n",
    "| 7 | 29 | STI013 | Jaune droit |\n"
   ]
  }
 ],
 "metadata": {
  "language_info": {
   "name": "python"
  }
 },
 "nbformat": 4,
 "nbformat_minor": 5
}
